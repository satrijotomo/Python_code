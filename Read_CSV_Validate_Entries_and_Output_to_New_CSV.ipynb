{
 "cells": [
  {
   "cell_type": "markdown",
   "metadata": {},
   "source": [
    "# Read CSV, Validate entries and Output to New CSV Files"
   ]
  },
  {
   "cell_type": "markdown",
   "metadata": {},
   "source": [
    "Your task is to check the \"productionStartYear\" of the DBPedia autos datafile for valid values.\n",
    "The following things should be done:\n",
    "- check if the field \"productionStartYear\" contains a year\n",
    "- check if the year is in range 1886-2014\n",
    "- convert the value of the field to be just a year (not full datetime)\n",
    "- the rest of the fields and values should stay the same\n",
    "- if the value of the field is a valid year in the range as described above,\n",
    "  write that line to the output_good file\n",
    "- if the value of the field is not a valid year as described above, \n",
    "  write that line to the output_bad file\n",
    "- discard rows (neither write to good nor bad) if the URI is not from dbpedia.org\n",
    "- you should use the provided way of reading and writing data (DictReader and DictWriter)\n",
    "  They will take care of dealing with the header.\n",
    "\n",
    "You can write helper functions for checking the data and writing the files, but we will call only the \n",
    "'process_file' with 3 arguments (inputfile, output_good, output_bad)."
   ]
  },
  {
   "cell_type": "code",
   "execution_count": 79,
   "metadata": {
    "collapsed": true
   },
   "outputs": [],
   "source": [
    "import csv\n",
    "import pprint\n",
    "from datetime import datetime\n",
    "\n",
    "INPUT_FILE = 'autos.csv'\n",
    "OUTPUT_GOOD = 'autos-valid.csv'\n",
    "OUTPUT_BAD = 'FIXME-autos.csv'\n",
    "\n",
    "def process_file(input_file, output_good, output_bad):\n",
    "\n",
    "    goodrows =[]\n",
    "    badrows = []\n",
    "    with open(INPUT_FILE,\"r\") as f:\n",
    "        reader = csv.DictReader(f)\n",
    "        header = reader.fieldnames\n",
    "        #print header.index('productionStartYear')\n",
    "        #print header[33]\n",
    "        for row in reader:\n",
    "            year = row[\"productionStartYear\"][:4]\n",
    "            try:\n",
    "                #year2 = datetime.strptime(year,'%Y-%m-%d')\n",
    "                #year3 = year2.strftime('%Y')\n",
    "                if int(year) <= 2014 and int(year3) > 1886:\n",
    "                    goodrows.append(row)\n",
    "                else:\n",
    "                    badrows.append(row)\n",
    "\n",
    "\n",
    "            except:\n",
    "                pass # does nothing\n",
    "\n",
    "    with open(OUTPUT_GOOD,\"w\") as wf:\n",
    "        wf_csv = csv.DictWriter(wf, header)\n",
    "        wf_csv.writeheader()\n",
    "        wf_csv.writerows(goodrows)\n",
    "\n",
    "    with open(OUTPUT_BAD,\"w\") as wf:\n",
    "        wf_csv = csv.DictWriter(wf, header)\n",
    "        wf_csv.writeheader()\n",
    "        wf_csv.writerows(badrows)\n"
   ]
  },
  {
   "cell_type": "code",
   "execution_count": 80,
   "metadata": {
    "collapsed": false
   },
   "outputs": [],
   "source": [
    "def test():\n",
    "\n",
    "    process_file(INPUT_FILE, OUTPUT_GOOD, OUTPUT_BAD)\n",
    "\n",
    "\n",
    "if __name__ == \"__main__\":\n",
    "    test()"
   ]
  }
 ],
 "metadata": {
  "kernelspec": {
   "display_name": "Python 2",
   "language": "python",
   "name": "python2"
  },
  "language_info": {
   "codemirror_mode": {
    "name": "ipython",
    "version": 2
   },
   "file_extension": ".py",
   "mimetype": "text/x-python",
   "name": "python",
   "nbconvert_exporter": "python",
   "pygments_lexer": "ipython2",
   "version": "2.7.13"
  }
 },
 "nbformat": 4,
 "nbformat_minor": 2
}
